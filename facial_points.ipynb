{
 "cells": [
  {
   "cell_type": "code",
   "execution_count": 6,
   "metadata": {
    "collapsed": false
   },
   "outputs": [],
   "source": [
    "%matplotlib inline\n",
    "import matplotlib\n",
    "import numpy as np\n",
    "import pandas as pd\n",
    "from numpy import genfromtxt\n",
    "import scipy.misc\n",
    "import matplotlib.pyplot as plt\n",
    "import sklearn.datasets\n",
    "import theano\n",
    "import theano.tensor as T\n",
    "from keras.models import Sequential, load_model\n",
    "from keras.layers import Dense, Dropout, Activation, Flatten, Convolution2D, MaxPooling2D\n",
    "from keras.layers import advanced_activations\n",
    "from keras.layers.normalization import BatchNormalization\n",
    "from keras.optimizers import *\n",
    "from keras.layers.advanced_activations import *\n",
    "from keras.regularizers import l2\n",
    "import csv\n",
    "import pickle\n",
    "from pandas.io.parsers import read_csv\n",
    "from sklearn.utils import shuffle\n",
    "from sklearn.externals import joblib"
   ]
  },
  {
   "cell_type": "code",
   "execution_count": 7,
   "metadata": {
    "collapsed": true
   },
   "outputs": [],
   "source": [
    "IMAGE_WIDTH = 96\n",
    "IMAGE_HIGHT = 96\n",
    "CHANNELS_NUM = 1\n",
    "DATASET_SIZE = 7049\n",
    "CLASSES_NUM = 15*2\n",
    "EPOCHS_NUM = 500\n",
    "BATCH_SIZE = 16\n",
    "LEARNING_RATE = 0.001\n",
    "FTRAIN = 'CSVs/facial_points_training.csv'\n",
    "FTEST = 'CSVs/facial_points_test.csv'\n",
    "FLOOKUP = 'CSVs/facial_points_IdLookupTable.csv'"
   ]
  },
  {
   "cell_type": "code",
   "execution_count": 8,
   "metadata": {
    "collapsed": true
   },
   "outputs": [],
   "source": [
    "def plot_sample(x, y, axis):\n",
    "    img = x.reshape(96, 96)\n",
    "    axis.imshow(img, cmap='gray')\n",
    "    if y is not None:\n",
    "        axis.scatter(y[0::2] * 48 + 48, y[1::2] * 48 + 48, marker='x', s=10)\n",
    "        \n",
    "def make_submission(test_labels):\n",
    "    test_labels *= 48.0\n",
    "    test_labels += 48.0\n",
    "    test_labels = test_labels.clip(0, 96)\n",
    "\n",
    "    lookup_table = pd.read_csv(FLOOKUP)\n",
    "    values = []\n",
    "\n",
    "    cols = joblib.load('cols.pkl')\n",
    "\n",
    "    for index, row in lookup_table.iterrows():\n",
    "        values.append((\n",
    "            row['RowId'],\n",
    "            test_labels[row.ImageId - 1][np.where(cols == row.FeatureName)[0][0]],\n",
    "            ))\n",
    "    submission = pd.DataFrame(values, columns=('RowId', 'Location'))\n",
    "    submission.to_csv('CSVs/submission.csv', index=False)\n",
    "    \n",
    "def load(test=False, cols=None):\n",
    "    fname = FTEST if test else FTRAIN\n",
    "    df = read_csv(fname)  \n",
    "    cols_l = df.columns[:-1]\n",
    "    df['Image'] = df['Image'].apply(lambda im: np.fromstring(im, sep=' '))\n",
    "    if cols:  \n",
    "        df = df[list(cols) + ['Image']]\n",
    "\n",
    "    print(df.count())  \n",
    "    df = df.dropna()\n",
    "    X = np.vstack(df['Image'].values)  \n",
    "    X = X.astype(np.float32)\n",
    "\n",
    "    if not test:  # only FTRAIN has any target columns\n",
    "        y = df[df.columns[:-1]].values\n",
    "        y = (y - 48) / 48  # scale target coordinates to [-1, 1]\n",
    "        X, y = shuffle(X, y, random_state=42)  # shuffle train data\n",
    "        y = y.astype(np.float32)\n",
    "        joblib.dump(cols_l, 'cols.pkl', compress=3)\n",
    "    else:\n",
    "        y = None\n",
    "    return X, y"
   ]
  },
  {
   "cell_type": "code",
   "execution_count": 5,
   "metadata": {
    "collapsed": false
   },
   "outputs": [
    {
     "name": "stdout",
     "output_type": "stream",
     "text": [
      "left_eye_center_x            7039\n",
      "left_eye_center_y            7039\n",
      "right_eye_center_x           7036\n",
      "right_eye_center_y           7036\n",
      "left_eye_inner_corner_x      2271\n",
      "left_eye_inner_corner_y      2271\n",
      "left_eye_outer_corner_x      2267\n",
      "left_eye_outer_corner_y      2267\n",
      "right_eye_inner_corner_x     2268\n",
      "right_eye_inner_corner_y     2268\n",
      "right_eye_outer_corner_x     2268\n",
      "right_eye_outer_corner_y     2268\n",
      "left_eyebrow_inner_end_x     2270\n",
      "left_eyebrow_inner_end_y     2270\n",
      "left_eyebrow_outer_end_x     2225\n",
      "left_eyebrow_outer_end_y     2225\n",
      "right_eyebrow_inner_end_x    2270\n",
      "right_eyebrow_inner_end_y    2270\n",
      "right_eyebrow_outer_end_x    2236\n",
      "right_eyebrow_outer_end_y    2236\n",
      "nose_tip_x                   7049\n",
      "nose_tip_y                   7049\n",
      "mouth_left_corner_x          2269\n",
      "mouth_left_corner_y          2269\n",
      "mouth_right_corner_x         2270\n",
      "mouth_right_corner_y         2270\n",
      "mouth_center_top_lip_x       2275\n",
      "mouth_center_top_lip_y       2275\n",
      "mouth_center_bottom_lip_x    7016\n",
      "mouth_center_bottom_lip_y    7016\n",
      "Image                        7049\n",
      "dtype: int64\n",
      "X.shape == (2140, 9216); X.min == 0.000; X.max == 255.000\n",
      "y.shape == (2140, 30); y.min == -0.920; y.max == 0.996\n"
     ]
    }
   ],
   "source": [
    "X, y = load()\n",
    "print(\"X.shape == {}; X.min == {:.3f}; X.max == {:.3f}\".format(X.shape, X.min(), X.max()))\n",
    "print(\"y.shape == {}; y.min == {:.3f}; y.max == {:.3f}\".format(y.shape, y.min(), y.max()))"
   ]
  },
  {
   "cell_type": "code",
   "execution_count": 13,
   "metadata": {
    "collapsed": false
   },
   "outputs": [],
   "source": [
    "def build_model():\n",
    "    model = Sequential()\n",
    "    \n",
    "    model.add(Convolution2D(16, 3, 3, init = 'he_normal', W_regularizer = l2(1e-4), border_mode='same',\n",
    "                            input_shape=(IMAGE_HIGHT, IMAGE_WIDTH, CHANNELS_NUM)))\n",
    "    model.add(normalization.BatchNormalization())\n",
    "    model.add(LeakyReLU(alpha=0.15))\n",
    "    model.add(Dropout(0.4))\n",
    "    \n",
    "    model.add(Convolution2D(32, 3, 3, init = 'he_normal', W_regularizer = l2(1e-4), border_mode='same'))\n",
    "    model.add(normalization.BatchNormalization())\n",
    "    model.add(LeakyReLU(alpha=0.15))\n",
    "    model.add(Dropout(0.4))\n",
    "    \n",
    "    model.add(Convolution2D(16, 3, 3, init = 'he_normal', W_regularizer = l2(1e-4), border_mode='same'))\n",
    "    model.add(normalization.BatchNormalization())\n",
    "    model.add(LeakyReLU(alpha=0.15))\n",
    "    model.add(Dropout(0.4))\n",
    "    \n",
    "    model.add(Convolution2D(8, 1, 1, init = 'he_normal', W_regularizer = l2(1e-4), border_mode='same'))\n",
    "    model.add(normalization.BatchNormalization())\n",
    "    model.add(LeakyReLU(alpha=0.15))\n",
    "    model.add(Dropout(0.4))\n",
    "\n",
    "    model.add(Flatten())\n",
    "    model.add(Dense(64, init = 'he_normal', W_regularizer = l2(1e-4)))\n",
    "    model.add(normalization.BatchNormalization())\n",
    "    model.add(LeakyReLU(alpha=0.15))\n",
    "    model.add(Dropout(0.4))\n",
    "    \n",
    "    model.add(Dense(32, init = 'he_normal', W_regularizer = l2(1e-4)))\n",
    "    model.add(normalization.BatchNormalization())\n",
    "    model.add(LeakyReLU(alpha=0.15))\n",
    "    model.add(Dropout(0.4))\n",
    "\n",
    "    model.add(Dense(CLASSES_NUM, init = 'he_normal', W_regularizer = l2(1e-4)))\n",
    "    model.add(Activation('linear'))\n",
    "    return model"
   ]
  },
  {
   "cell_type": "code",
   "execution_count": 14,
   "metadata": {
    "collapsed": false,
    "scrolled": true
   },
   "outputs": [
    {
     "name": "stdout",
     "output_type": "stream",
     "text": [
      "____________________________________________________________________________________________________\n",
      "Layer (type)                     Output Shape          Param #     Connected to                     \n",
      "====================================================================================================\n",
      "convolution2d_9 (Convolution2D)  (None, 96, 96, 16)    160         convolution2d_input_3[0][0]      \n",
      "____________________________________________________________________________________________________\n",
      "batchnormalization_11 (BatchNorm (None, 96, 96, 16)    32          convolution2d_9[0][0]            \n",
      "____________________________________________________________________________________________________\n",
      "leakyrelu_11 (LeakyReLU)         (None, 96, 96, 16)    0           batchnormalization_11[0][0]      \n",
      "____________________________________________________________________________________________________\n",
      "dropout_11 (Dropout)             (None, 96, 96, 16)    0           leakyrelu_11[0][0]               \n",
      "____________________________________________________________________________________________________\n",
      "convolution2d_10 (Convolution2D) (None, 96, 96, 32)    4640        dropout_11[0][0]                 \n",
      "____________________________________________________________________________________________________\n",
      "batchnormalization_12 (BatchNorm (None, 96, 96, 32)    64          convolution2d_10[0][0]           \n",
      "____________________________________________________________________________________________________\n",
      "leakyrelu_12 (LeakyReLU)         (None, 96, 96, 32)    0           batchnormalization_12[0][0]      \n",
      "____________________________________________________________________________________________________\n",
      "dropout_12 (Dropout)             (None, 96, 96, 32)    0           leakyrelu_12[0][0]               \n",
      "____________________________________________________________________________________________________\n",
      "convolution2d_11 (Convolution2D) (None, 96, 96, 16)    4624        dropout_12[0][0]                 \n",
      "____________________________________________________________________________________________________\n",
      "batchnormalization_13 (BatchNorm (None, 96, 96, 16)    32          convolution2d_11[0][0]           \n",
      "____________________________________________________________________________________________________\n",
      "leakyrelu_13 (LeakyReLU)         (None, 96, 96, 16)    0           batchnormalization_13[0][0]      \n",
      "____________________________________________________________________________________________________\n",
      "dropout_13 (Dropout)             (None, 96, 96, 16)    0           leakyrelu_13[0][0]               \n",
      "____________________________________________________________________________________________________\n",
      "convolution2d_12 (Convolution2D) (None, 96, 96, 8)     136         dropout_13[0][0]                 \n",
      "____________________________________________________________________________________________________\n",
      "batchnormalization_14 (BatchNorm (None, 96, 96, 8)     16          convolution2d_12[0][0]           \n",
      "____________________________________________________________________________________________________\n",
      "leakyrelu_14 (LeakyReLU)         (None, 96, 96, 8)     0           batchnormalization_14[0][0]      \n",
      "____________________________________________________________________________________________________\n",
      "dropout_14 (Dropout)             (None, 96, 96, 8)     0           leakyrelu_14[0][0]               \n",
      "____________________________________________________________________________________________________\n",
      "flatten_4 (Flatten)              (None, 73728)         0           dropout_14[0][0]                 \n",
      "____________________________________________________________________________________________________\n",
      "dense_4 (Dense)                  (None, 64)            4718656     flatten_4[0][0]                  \n",
      "____________________________________________________________________________________________________\n",
      "batchnormalization_15 (BatchNorm (None, 64)            128         dense_4[0][0]                    \n",
      "____________________________________________________________________________________________________\n",
      "leakyrelu_15 (LeakyReLU)         (None, 64)            0           batchnormalization_15[0][0]      \n",
      "____________________________________________________________________________________________________\n",
      "dropout_15 (Dropout)             (None, 64)            0           leakyrelu_15[0][0]               \n",
      "____________________________________________________________________________________________________\n",
      "dense_5 (Dense)                  (None, 32)            2080        dropout_15[0][0]                 \n",
      "____________________________________________________________________________________________________\n",
      "batchnormalization_16 (BatchNorm (None, 32)            64          dense_5[0][0]                    \n",
      "____________________________________________________________________________________________________\n",
      "leakyrelu_16 (LeakyReLU)         (None, 32)            0           batchnormalization_16[0][0]      \n",
      "____________________________________________________________________________________________________\n",
      "dropout_16 (Dropout)             (None, 32)            0           leakyrelu_16[0][0]               \n",
      "____________________________________________________________________________________________________\n",
      "dense_6 (Dense)                  (None, 30)            990         dropout_16[0][0]                 \n",
      "____________________________________________________________________________________________________\n",
      "activation_2 (Activation)        (None, 30)            0           dense_6[0][0]                    \n",
      "====================================================================================================\n",
      "Total params: 4731622\n",
      "____________________________________________________________________________________________________\n"
     ]
    }
   ],
   "source": [
    "inzeption = build_model()\n",
    "inzeption.summary()"
   ]
  },
  {
   "cell_type": "code",
   "execution_count": null,
   "metadata": {
    "collapsed": false
   },
   "outputs": [
    {
     "name": "stdout",
     "output_type": "stream",
     "text": [
      "Train on 1926 samples, validate on 214 samples\n",
      "Epoch 1/100\n",
      " 160/1926 [=>............................] - ETA: 244s - loss: 1.5942 - acc: 0.0187"
     ]
    }
   ],
   "source": [
    "adam = Adam(lr=LEARNING_RATE, decay=0.001)\n",
    "inzeption.compile(optimizer=adam, loss='mse', metrics=['accuracy'])\n",
    "try:\n",
    "    inzeption.fit(X.reshape(-1, 96, 96, 1), y, batch_size=32, nb_epoch=100, validation_split= 0.1, shuffle=True)\n",
    "except KeyboardInterrupt:\n",
    "    pass"
   ]
  },
  {
   "cell_type": "code",
   "execution_count": null,
   "metadata": {
    "collapsed": false
   },
   "outputs": [],
   "source": [
    "inzeption.save('my_2nd_model.h5')"
   ]
  },
  {
   "cell_type": "code",
   "execution_count": null,
   "metadata": {
    "collapsed": false
   },
   "outputs": [],
   "source": [
    "sample1 = load(test=True)[0][19:20].reshape(1, 96, 96, 1)\n",
    "y_pred1 = inzeption.predict(sample1)[0]\n",
    "print y_pred1.shape\n",
    "fig = plt.figure(figsize=(9, 9))\n",
    "ax = fig.add_subplot(1, 1, 1, xticks=[], yticks=[])\n",
    "plot_sample(sample1, y_pred1, ax)\n",
    "plt.show()"
   ]
  },
  {
   "cell_type": "code",
   "execution_count": null,
   "metadata": {
    "collapsed": false
   },
   "outputs": [],
   "source": [
    "tst = load(test=True)[0].reshape(-1, 96, 96, 1)\n",
    "y_pred1 = inzeption.predict(tst)\n",
    "print y_pred1.shape, tst.shape\n",
    "make_submission(y_pred1)"
   ]
  },
  {
   "cell_type": "code",
   "execution_count": null,
   "metadata": {
    "collapsed": true
   },
   "outputs": [],
   "source": []
  }
 ],
 "metadata": {
  "anaconda-cloud": {},
  "kernelspec": {
   "display_name": "Python [conda root]",
   "language": "python",
   "name": "conda-root-py"
  },
  "language_info": {
   "codemirror_mode": {
    "name": "ipython",
    "version": 2
   },
   "file_extension": ".py",
   "mimetype": "text/x-python",
   "name": "python",
   "nbconvert_exporter": "python",
   "pygments_lexer": "ipython2",
   "version": "2.7.12"
  }
 },
 "nbformat": 4,
 "nbformat_minor": 1
}
